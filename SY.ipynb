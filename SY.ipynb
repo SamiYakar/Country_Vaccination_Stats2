{
 "cells": [
  {
   "cell_type": "code",
   "execution_count": 25,
   "metadata": {},
   "outputs": [
    {
     "name": "stdout",
     "output_type": "stream",
     "text": [
      "country\n",
      "United States    399093.0\n",
      "China            299107.5\n",
      "India            182551.5\n",
      "Name: daily_vaccinations, dtype: float64\n"
     ]
    }
   ],
   "source": [
    "import pandas as pd\n",
    "\n",
    "# Load the dataset\n",
    "df = pd.read_csv('country_vaccination_stats.csv')\n",
    "\n",
    "# Group the data by country and find the median daily vaccination number\n",
    "median_daily_vaccinations = df.groupby('country')['daily_vaccinations'].median()\n",
    "\n",
    "# Fill missing values in the daily_vaccinations column with the median value per country\n",
    "df['daily_vaccinations'] = df.groupby('country')['daily_vaccinations'].fillna(median_daily_vaccinations)\n",
    "\n",
    "# Fill remaining missing values with 0\n",
    "df['daily_vaccinations'] = df['daily_vaccinations'].fillna(0)\n",
    "\n",
    "# Get the top-3 countries with highest median daily vaccination numbers\n",
    "top_3_countries = median_daily_vaccinations.nlargest(3)\n",
    "\n",
    "# Print the top-3 countries\n",
    "print(top_3_countries)\n",
    "\n"
   ]
  }
 ],
 "metadata": {
  "kernelspec": {
   "display_name": "Python 3",
   "language": "python",
   "name": "python3"
  },
  "language_info": {
   "codemirror_mode": {
    "name": "ipython",
    "version": 3
   },
   "file_extension": ".py",
   "mimetype": "text/x-python",
   "name": "python",
   "nbconvert_exporter": "python",
   "pygments_lexer": "ipython3",
   "version": "3.9.13"
  },
  "orig_nbformat": 4,
  "vscode": {
   "interpreter": {
    "hash": "89de8ce12652ff243e5042fd4d86e47bfd6df41569d4d2b869c5de30c41a3971"
   }
  }
 },
 "nbformat": 4,
 "nbformat_minor": 2
}
